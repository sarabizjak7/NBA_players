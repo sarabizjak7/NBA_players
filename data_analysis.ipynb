{
 "cells": [
  {
   "cell_type": "code",
   "execution_count": 6,
   "metadata": {},
   "outputs": [],
   "source": [
    "import pandas as pd\n",
    "import matplotlib\n",
    "import numpy as np\n",
    "import math\n",
    "from matplotlib import pyplot as plot\n",
    "\n",
    "%matplotlib inline"
   ]
  },
  {
   "cell_type": "markdown",
   "metadata": {},
   "source": [
    "Za projekt pri predmetu Programiranje 1 sem izbrala NBA igralce vseh časov. Liga NBA (National Basketball Association) je najmočnejša košarkarska liga na svetu, v kateri nastopa kar 30 ekip (ena ekipa je kanadska). Ustanovljena je bila leta 1946 v NY.\n",
    "Podatke sem pridobila iz spletne strani http://en.hispanosnba.com/players/nba-all/index."
   ]
  },
  {
   "cell_type": "markdown",
   "metadata": {},
   "source": [
    "V spodnji tabeli je predstavljenih prvih nekaj igralcev (za občutek), njihove igralne pozicije, višina, od katerega do katerega leta so igrali/igrajo v NBA in število igralnih sezon."
   ]
  },
  {
   "cell_type": "code",
   "execution_count": 7,
   "metadata": {
    "scrolled": true
   },
   "outputs": [
    {
     "data": {
      "text/html": [
       "<div>\n",
       "<style>\n",
       "    .dataframe thead tr:only-child th {\n",
       "        text-align: right;\n",
       "    }\n",
       "\n",
       "    .dataframe thead th {\n",
       "        text-align: left;\n",
       "    }\n",
       "\n",
       "    .dataframe tbody tr th {\n",
       "        vertical-align: top;\n",
       "    }\n",
       "</style>\n",
       "<table border=\"1\" class=\"dataframe\">\n",
       "  <thead>\n",
       "    <tr style=\"text-align: right;\">\n",
       "      <th></th>\n",
       "      <th>player_name</th>\n",
       "      <th>player_link</th>\n",
       "      <th>position</th>\n",
       "      <th>height</th>\n",
       "      <th>from</th>\n",
       "      <th>to</th>\n",
       "      <th>seasons</th>\n",
       "    </tr>\n",
       "  </thead>\n",
       "  <tbody>\n",
       "    <tr>\n",
       "      <th>0</th>\n",
       "      <td>Alaa Abdelnaby</td>\n",
       "      <td>alaa-abdelnaby</td>\n",
       "      <td>PF/C</td>\n",
       "      <td>2.08</td>\n",
       "      <td>1990</td>\n",
       "      <td>1995</td>\n",
       "      <td>5</td>\n",
       "    </tr>\n",
       "    <tr>\n",
       "      <th>1</th>\n",
       "      <td>Zaid Abdul-Aziz</td>\n",
       "      <td>zaid-abdul-aziz</td>\n",
       "      <td>PF/C</td>\n",
       "      <td>2.06</td>\n",
       "      <td>1968</td>\n",
       "      <td>1978</td>\n",
       "      <td>10</td>\n",
       "    </tr>\n",
       "    <tr>\n",
       "      <th>2</th>\n",
       "      <td>Mahmoud Abdul-Rauf</td>\n",
       "      <td>mahmoud-abdul-rauf</td>\n",
       "      <td>PG</td>\n",
       "      <td>1.85</td>\n",
       "      <td>1990</td>\n",
       "      <td>2001</td>\n",
       "      <td>9</td>\n",
       "    </tr>\n",
       "    <tr>\n",
       "      <th>3</th>\n",
       "      <td>Tariq Abdul-Wahad</td>\n",
       "      <td>tariq-abdul-wahad</td>\n",
       "      <td>SG/SF</td>\n",
       "      <td>1.98</td>\n",
       "      <td>1997</td>\n",
       "      <td>2003</td>\n",
       "      <td>6</td>\n",
       "    </tr>\n",
       "    <tr>\n",
       "      <th>4</th>\n",
       "      <td>Shareef Abdur-Rahim</td>\n",
       "      <td>shareef-abdur-rahim</td>\n",
       "      <td>PF</td>\n",
       "      <td>2.06</td>\n",
       "      <td>1996</td>\n",
       "      <td>2008</td>\n",
       "      <td>12</td>\n",
       "    </tr>\n",
       "    <tr>\n",
       "      <th>5</th>\n",
       "      <td>Tom Abernethy</td>\n",
       "      <td>tom-abernethy</td>\n",
       "      <td>SF/PF</td>\n",
       "      <td>2.00</td>\n",
       "      <td>1976</td>\n",
       "      <td>1981</td>\n",
       "      <td>5</td>\n",
       "    </tr>\n",
       "    <tr>\n",
       "      <th>6</th>\n",
       "      <td>John Abramovic</td>\n",
       "      <td>john-abramovic</td>\n",
       "      <td>SF/PF</td>\n",
       "      <td>1.90</td>\n",
       "      <td>1946</td>\n",
       "      <td>1948</td>\n",
       "      <td>2</td>\n",
       "    </tr>\n",
       "    <tr>\n",
       "      <th>7</th>\n",
       "      <td>Álex Abrines</td>\n",
       "      <td>alex-abrines</td>\n",
       "      <td>SG/SF</td>\n",
       "      <td>1.98</td>\n",
       "      <td>2016</td>\n",
       "      <td>2018</td>\n",
       "      <td>1</td>\n",
       "    </tr>\n",
       "    <tr>\n",
       "      <th>8</th>\n",
       "      <td>Alex Acker</td>\n",
       "      <td>alex-acker</td>\n",
       "      <td>SG</td>\n",
       "      <td>1.96</td>\n",
       "      <td>2005</td>\n",
       "      <td>2009</td>\n",
       "      <td>2</td>\n",
       "    </tr>\n",
       "    <tr>\n",
       "      <th>9</th>\n",
       "      <td>Mark Acres</td>\n",
       "      <td>mark-acres</td>\n",
       "      <td>C/PF</td>\n",
       "      <td>2.11</td>\n",
       "      <td>1987</td>\n",
       "      <td>1993</td>\n",
       "      <td>6</td>\n",
       "    </tr>\n",
       "    <tr>\n",
       "      <th>10</th>\n",
       "      <td>Quincy Acy</td>\n",
       "      <td>quincy-acy</td>\n",
       "      <td>PF</td>\n",
       "      <td>2.01</td>\n",
       "      <td>2012</td>\n",
       "      <td>2018</td>\n",
       "      <td>5</td>\n",
       "    </tr>\n",
       "    <tr>\n",
       "      <th>11</th>\n",
       "      <td>Alvan Adams</td>\n",
       "      <td>alvan-adams</td>\n",
       "      <td>PF/C</td>\n",
       "      <td>2.06</td>\n",
       "      <td>1975</td>\n",
       "      <td>1988</td>\n",
       "      <td>13</td>\n",
       "    </tr>\n",
       "    <tr>\n",
       "      <th>12</th>\n",
       "      <td>Don Adams</td>\n",
       "      <td>don-adams</td>\n",
       "      <td>SF</td>\n",
       "      <td>1.98</td>\n",
       "      <td>1970</td>\n",
       "      <td>1977</td>\n",
       "      <td>7</td>\n",
       "    </tr>\n",
       "    <tr>\n",
       "      <th>13</th>\n",
       "      <td>Hassan Adams</td>\n",
       "      <td>hassan-adams</td>\n",
       "      <td>SG</td>\n",
       "      <td>1.93</td>\n",
       "      <td>2006</td>\n",
       "      <td>2009</td>\n",
       "      <td>2</td>\n",
       "    </tr>\n",
       "    <tr>\n",
       "      <th>14</th>\n",
       "      <td>Jordan Adams</td>\n",
       "      <td>jordan-adams</td>\n",
       "      <td>SG</td>\n",
       "      <td>1.96</td>\n",
       "      <td>2014</td>\n",
       "      <td>2016</td>\n",
       "      <td>2</td>\n",
       "    </tr>\n",
       "    <tr>\n",
       "      <th>15</th>\n",
       "      <td>Josh Adams</td>\n",
       "      <td>josh-adams</td>\n",
       "      <td>PG</td>\n",
       "      <td>1.88</td>\n",
       "      <td>----</td>\n",
       "      <td>----</td>\n",
       "      <td>0</td>\n",
       "    </tr>\n",
       "    <tr>\n",
       "      <th>16</th>\n",
       "      <td>Michael Adams</td>\n",
       "      <td>michael-adams</td>\n",
       "      <td>PG</td>\n",
       "      <td>1.78</td>\n",
       "      <td>1985</td>\n",
       "      <td>1996</td>\n",
       "      <td>11</td>\n",
       "    </tr>\n",
       "    <tr>\n",
       "      <th>17</th>\n",
       "      <td>Steven Adams</td>\n",
       "      <td>steven-adams</td>\n",
       "      <td>C</td>\n",
       "      <td>2.13</td>\n",
       "      <td>2013</td>\n",
       "      <td>2018</td>\n",
       "      <td>4</td>\n",
       "    </tr>\n",
       "    <tr>\n",
       "      <th>18</th>\n",
       "      <td>Rafael Addison</td>\n",
       "      <td>rafael-addison</td>\n",
       "      <td>SF/SG</td>\n",
       "      <td>2.01</td>\n",
       "      <td>1986</td>\n",
       "      <td>1997</td>\n",
       "      <td>6</td>\n",
       "    </tr>\n",
       "    <tr>\n",
       "      <th>19</th>\n",
       "      <td>Bam Adebayo</td>\n",
       "      <td>bam-adebayo</td>\n",
       "      <td>C/PF</td>\n",
       "      <td>2.08</td>\n",
       "      <td>2017</td>\n",
       "      <td>2018</td>\n",
       "      <td>0</td>\n",
       "    </tr>\n",
       "  </tbody>\n",
       "</table>\n",
       "</div>"
      ],
      "text/plain": [
       "            player_name          player_link position  height  from    to  \\\n",
       "0        Alaa Abdelnaby       alaa-abdelnaby     PF/C    2.08  1990  1995   \n",
       "1       Zaid Abdul-Aziz      zaid-abdul-aziz     PF/C    2.06  1968  1978   \n",
       "2    Mahmoud Abdul-Rauf   mahmoud-abdul-rauf       PG    1.85  1990  2001   \n",
       "3     Tariq Abdul-Wahad    tariq-abdul-wahad    SG/SF    1.98  1997  2003   \n",
       "4   Shareef Abdur-Rahim  shareef-abdur-rahim       PF    2.06  1996  2008   \n",
       "5         Tom Abernethy        tom-abernethy    SF/PF    2.00  1976  1981   \n",
       "6        John Abramovic       john-abramovic    SF/PF    1.90  1946  1948   \n",
       "7          Álex Abrines         alex-abrines    SG/SF    1.98  2016  2018   \n",
       "8            Alex Acker           alex-acker       SG    1.96  2005  2009   \n",
       "9            Mark Acres           mark-acres     C/PF    2.11  1987  1993   \n",
       "10           Quincy Acy           quincy-acy       PF    2.01  2012  2018   \n",
       "11          Alvan Adams          alvan-adams     PF/C    2.06  1975  1988   \n",
       "12            Don Adams            don-adams       SF    1.98  1970  1977   \n",
       "13         Hassan Adams         hassan-adams       SG    1.93  2006  2009   \n",
       "14         Jordan Adams         jordan-adams       SG    1.96  2014  2016   \n",
       "15           Josh Adams           josh-adams       PG    1.88  ----  ----   \n",
       "16        Michael Adams        michael-adams       PG    1.78  1985  1996   \n",
       "17         Steven Adams         steven-adams        C    2.13  2013  2018   \n",
       "18       Rafael Addison       rafael-addison    SF/SG    2.01  1986  1997   \n",
       "19          Bam Adebayo          bam-adebayo     C/PF    2.08  2017  2018   \n",
       "\n",
       "    seasons  \n",
       "0         5  \n",
       "1        10  \n",
       "2         9  \n",
       "3         6  \n",
       "4        12  \n",
       "5         5  \n",
       "6         2  \n",
       "7         1  \n",
       "8         2  \n",
       "9         6  \n",
       "10        5  \n",
       "11       13  \n",
       "12        7  \n",
       "13        2  \n",
       "14        2  \n",
       "15        0  \n",
       "16       11  \n",
       "17        4  \n",
       "18        6  \n",
       "19        0  "
      ]
     },
     "execution_count": 7,
     "metadata": {},
     "output_type": "execute_result"
    }
   ],
   "source": [
    "podatki = pd.read_csv('players.csv', encoding = \"utf-8\")\n",
    "podatki[:20]"
   ]
  },
  {
   "cell_type": "markdown",
   "metadata": {},
   "source": [
    "Izračunamo povprečno višino vseh igralcev in jo primerjamo s povprečno višino igralcev, ki igrajo na posameznih pozicijah."
   ]
  },
  {
   "cell_type": "code",
   "execution_count": 8,
   "metadata": {},
   "outputs": [
    {
     "data": {
      "text/plain": [
       "1.99"
      ]
     },
     "execution_count": 8,
     "metadata": {},
     "output_type": "execute_result"
    }
   ],
   "source": [
    "podatki['height'].mean().round(decimals = 2)\n"
   ]
  },
  {
   "cell_type": "code",
   "execution_count": 9,
   "metadata": {},
   "outputs": [
    {
     "data": {
      "text/plain": [
       "position\n",
       "C        2.12\n",
       "C/PF     2.08\n",
       "PF       2.05\n",
       "PF/C     2.05\n",
       "PF/SF    2.04\n",
       "PG       1.86\n",
       "PG/SG    1.89\n",
       "SF       2.00\n",
       "SF/PF    2.01\n",
       "SF/SG    1.98\n",
       "SG       1.94\n",
       "SG/PG    1.91\n",
       "SG/SF    1.96\n",
       "Name: height, dtype: float64"
      ]
     },
     "execution_count": 9,
     "metadata": {},
     "output_type": "execute_result"
    }
   ],
   "source": [
    "podatki.groupby('position')['height'].mean().round(decimals = 2)"
   ]
  },
  {
   "cell_type": "markdown",
   "metadata": {},
   "source": [
    "Legenda košarkarskih pozicij:\n",
    "    -> PG = point guard = organizator \n",
    "    -> SG = shooting guard = branilec \n",
    "    -> SF = small forward = krilo\n",
    "    -> PF = power forward = krilni center\n",
    "    -> C = center = center\n",
    "    \n",
    "\n",
    "Povprečna višina centrov (C) pričakovano najbolj (navzgor) odstopa od splošnega povprečja. \n",
    "Tudi igralci na poziciji krilnega centra (PF) (oziroma s kombinacijo krilnega centra, tj. _/PF oz PF/_) so v povprečju \n",
    "višji od splošne povprečje višine. \n",
    "Najnižji so organizatorji igre (PG) in branilci (SG), ti. guardi.\n",
    "Najbolj blizu povprečja so krilni igralci (SF). Od povprečja se razlikujejo le za 1cm. "
   ]
  },
  {
   "cell_type": "markdown",
   "metadata": {},
   "source": [
    "Kot zanimivost pogledamo koliko merita najvišji in najnižji igralec, ki sta kdajkoli igrala v ligi NBA."
   ]
  },
  {
   "cell_type": "code",
   "execution_count": 55,
   "metadata": {},
   "outputs": [
    {
     "data": {
      "text/plain": [
       "2.3100000000000001"
      ]
     },
     "execution_count": 55,
     "metadata": {},
     "output_type": "execute_result"
    }
   ],
   "source": [
    "podatki['height'].max().round(decimals = 2)"
   ]
  },
  {
   "cell_type": "code",
   "execution_count": 11,
   "metadata": {},
   "outputs": [
    {
     "data": {
      "text/plain": [
       "1.6000000000000001"
      ]
     },
     "execution_count": 11,
     "metadata": {},
     "output_type": "execute_result"
    }
   ],
   "source": [
    "podatki['height'].min().round(decimals = 2)"
   ]
  },
  {
   "cell_type": "markdown",
   "metadata": {},
   "source": [
    "Izračunamo povprečno število odigranih sezon vseh igralcev in igralcev na posameznih pozicijah."
   ]
  },
  {
   "cell_type": "code",
   "execution_count": 13,
   "metadata": {},
   "outputs": [
    {
     "data": {
      "text/plain": [
       "5.1600000000000001"
      ]
     },
     "execution_count": 13,
     "metadata": {},
     "output_type": "execute_result"
    }
   ],
   "source": [
    "podatki['seasons'].mean().round(decimals = 2)"
   ]
  },
  {
   "cell_type": "code",
   "execution_count": 14,
   "metadata": {},
   "outputs": [
    {
     "data": {
      "text/plain": [
       "position\n",
       "C        5.42\n",
       "C/PF     6.17\n",
       "PF       4.84\n",
       "PF/C     6.13\n",
       "PF/SF    5.91\n",
       "PG       5.26\n",
       "PG/SG    5.10\n",
       "SF       4.42\n",
       "SF/PF    4.63\n",
       "SF/SG    5.37\n",
       "SG       3.95\n",
       "SG/PG    4.79\n",
       "SG/SF    5.86\n",
       "Name: seasons, dtype: float64"
      ]
     },
     "execution_count": 14,
     "metadata": {},
     "output_type": "execute_result"
    }
   ],
   "source": [
    "podatki.groupby('position')['seasons'].mean().round(decimals = 2)"
   ]
  },
  {
   "cell_type": "markdown",
   "metadata": {},
   "source": [
    "Izračunamo povprečja odigranih sezon igralcev po posameznih desetletji in rezultate prikažemo v grafu.\n",
    "(V enem desetjetju so upoštevane sezone igralcev, ki so takrat začeli z igranjem v NBA)."
   ]
  },
  {
   "cell_type": "code",
   "execution_count": 72,
   "metadata": {},
   "outputs": [
    {
     "data": {
      "text/plain": [
       "6.0800000000000001"
      ]
     },
     "execution_count": 72,
     "metadata": {},
     "output_type": "execute_result"
    }
   ],
   "source": [
    "seznam = ['1940', '1950', '1960', '1970', '1980', '1990', '2000', '2010', '2020']\n",
    "sezone = {}\n",
    "\n",
    "for i in range(len(seznam)-1):\n",
    "    ime = 'from{}'.format(seznam[i])\n",
    "    sezone[ime] = podatki[(podatki['from'] >= seznam[i]) & (podatki['from'] < seznam[i+1])]\n",
    "\n",
    "\n",
    "    \n",
    "#preverim če dela\n",
    "sezone['from2000']['seasons'].mean().round(decimals = 2)\n"
   ]
  },
  {
   "cell_type": "code",
   "execution_count": 94,
   "metadata": {},
   "outputs": [
    {
     "data": {
      "text/plain": [
       "{'from1940': 3.3799999999999999,\n",
       " 'from1950': 4.3799999999999999,\n",
       " 'from1960': 5.7999999999999998,\n",
       " 'from1970': 5.8399999999999999,\n",
       " 'from1980': 6.9500000000000002,\n",
       " 'from1990': 6.4699999999999998,\n",
       " 'from2000': 6.0800000000000001,\n",
       " 'from2010': 2.3399999999999999}"
      ]
     },
     "execution_count": 94,
     "metadata": {},
     "output_type": "execute_result"
    },
    {
     "data": {
      "image/png": "[encoded data removed]",
      "text/plain": [
       "<matplotlib.figure.Figure at 0xe02419cd30>"
      ]
     },
     "metadata": {},
     "output_type": "display_data"
    }
   ],
   "source": [
    "povprecje_sezon = {}\n",
    "pari = []\n",
    "\n",
    "\n",
    "for element in sezone:\n",
    "    ime = '{}'.format(element)\n",
    "    povprecje_sezon[ime] = sezone[element]['seasons'].mean().round(decimals = 2)\n",
    "    \n",
    "\n",
    "x = []\n",
    "y = []\n",
    "\n",
    "#v seznamih x in y bosta podatka za isto obdobje na istem mestu, le da seznama ne bosta urejena po vrsti po letih!\n",
    "\n",
    "for element in povprecje_sezon:\n",
    "    x.append(element)\n",
    "    y.append(povprecje_sezon[element])\n",
    "    \n",
    "\n",
    "for i in range (len(x)):\n",
    "    pari.append((x[i], y[i]))\n",
    "    pari.sort()\n",
    "\n",
    "    \n",
    "\n",
    "graf = plot.bar(range(len(povprecje_sezon)), list(povprecje_sezon.values()))\n",
    "plot.xticks(range(len(povprecje_sezon)), list(povprecje_sezon.keys()))\n",
    "\n",
    "povprecje_sezon"
   ]
  },
  {
   "cell_type": "markdown",
   "metadata": {},
   "source": [
    "Vidimo, da se povprečje odigranih sezon z desetletji praviloma viša.\n",
    "Najnižje povprečje igranih sezon je sicer med 2010 in 2020, a ta podatek seveda ni relevanten, saj večina teh igralcev še zdaleč ni zaključila s svojo NBA kariero. \n",
    "                                                    \n",
    "    "
   ]
  }
 ],
 "metadata": {
  "kernelspec": {
   "display_name": "Python 3",
   "language": "python",
   "name": "python3"
  },
  "language_info": {
   "codemirror_mode": {
    "name": "ipython",
    "version": 3
   },
   "file_extension": ".py",
   "mimetype": "text/x-python",
   "name": "python",
   "nbconvert_exporter": "python",
   "pygments_lexer": "ipython3",
   "version": "3.5.2"
  }
 },
 "nbformat": 4,
 "nbformat_minor": 2
}
